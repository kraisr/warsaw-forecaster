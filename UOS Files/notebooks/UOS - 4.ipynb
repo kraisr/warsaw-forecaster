{
 "cells": [
  {
   "cell_type": "markdown",
   "metadata": {},
   "source": [
    "# Funkcje w Pythonie"
   ]
  },
  {
   "cell_type": "code",
   "execution_count": 6,
   "metadata": {},
   "outputs": [
    {
     "name": "stdout",
     "output_type": "stream",
     "text": [
      "Podaj liczbę całkowitą 6\n",
      "36\n",
      "Podaj liczbę całkowitą 7\n",
      "None\n"
     ]
    }
   ],
   "source": [
    "def PierwszaFunkcja():\n",
    "    liczba=int(input('Podaj liczbę całkowitą '))\n",
    "    if liczba % 2 == 0:\n",
    "        return liczba**2\n",
    "    \n",
    "print(PierwszaFunkcja())    \n",
    "print(PierwszaFunkcja())   "
   ]
  },
  {
   "cell_type": "code",
   "execution_count": 12,
   "metadata": {},
   "outputs": [
    {
     "name": "stdout",
     "output_type": "stream",
     "text": [
      "64\n",
      "None\n",
      "208\n"
     ]
    }
   ],
   "source": [
    "def DrugaFunkcja(liczba):\n",
    "     if liczba % 2 == 0:\n",
    "        return liczba**2\n",
    "print(DrugaFunkcja(8))\n",
    "print(DrugaFunkcja(9))\n",
    "print(DrugaFunkcja(8)+DrugaFunkcja(12))    "
   ]
  },
  {
   "cell_type": "code",
   "execution_count": 17,
   "metadata": {},
   "outputs": [
    {
     "name": "stdout",
     "output_type": "stream",
     "text": [
      "27\n",
      "18\n",
      "11\n",
      "16\n",
      "67\n"
     ]
    }
   ],
   "source": [
    "#Parametry z wartością domyślną\n",
    "def sumuj(a=4,b=7):\n",
    "    return a+b\n",
    "\n",
    "print(sumuj(12,15))\n",
    "print(sumuj(11))\n",
    "print(sumuj())\n",
    "\n",
    "print(sumuj(b=12))\n",
    "\n",
    "print(sumuj(b=12, a=55))"
   ]
  },
  {
   "cell_type": "code",
   "execution_count": 15,
   "metadata": {},
   "outputs": [
    {
     "name": "stdout",
     "output_type": "stream",
     "text": [
      "[3]\n",
      "[3, 'Ala']\n",
      "[3, 'Ala', (3, 7)]\n",
      "['a', 'b', 7]\n"
     ]
    }
   ],
   "source": [
    "def RobListe(wartosc,lista=[]):\n",
    "    lista.append(wartosc)\n",
    "    return lista\n",
    "\n",
    "print(RobListe(3))\n",
    "\n",
    "print(RobListe('Ala'))\n",
    "\n",
    "print(RobListe((3,7)))\n",
    "print(RobListe(7,['a','b']))"
   ]
  },
  {
   "cell_type": "code",
   "execution_count": 22,
   "metadata": {},
   "outputs": [
    {
     "name": "stdout",
     "output_type": "stream",
     "text": [
      "30\n"
     ]
    }
   ],
   "source": [
    "# Parametr z *\n",
    "\n",
    "def sumator(a,b,*reszta):\n",
    "    wynik=a+b\n",
    "    for liczba in reszta:\n",
    "        wynik+=liczba\n",
    "    return wynik\n",
    "\n",
    "print(sumator(4,2,7,8,9))\n",
    "         "
   ]
  },
  {
   "cell_type": "code",
   "execution_count": 23,
   "metadata": {},
   "outputs": [
    {
     "name": "stdout",
     "output_type": "stream",
     "text": [
      "5 33\n",
      "('Ola', 'Ula', False)\n",
      "{'kolor': 'red', 'imie': 'Tola', 'stanKonta': 12456}\n",
      "None\n"
     ]
    }
   ],
   "source": [
    "#parametr z **\n",
    "\n",
    "def Przyklad(a,b,*reszta,**slownik):\n",
    "    print (a,b)\n",
    "    print(reszta)\n",
    "    print(slownik)\n",
    "\n",
    "print(Przyklad(5,33,'Ola','Ula',False, kolor='red', imie='Tola', stanKonta=12456))    "
   ]
  },
  {
   "cell_type": "markdown",
   "metadata": {},
   "source": [
    "# Wartości losowe"
   ]
  },
  {
   "cell_type": "code",
   "execution_count": 29,
   "metadata": {},
   "outputs": [
    {
     "data": {
      "text/plain": [
       "0.3147930763611362"
      ]
     },
     "execution_count": 29,
     "metadata": {},
     "output_type": "execute_result"
    }
   ],
   "source": [
    "import random as rd\n",
    "rd.random()"
   ]
  },
  {
   "cell_type": "code",
   "execution_count": 36,
   "metadata": {},
   "outputs": [
    {
     "data": {
      "text/plain": [
       "3"
      ]
     },
     "execution_count": 36,
     "metadata": {},
     "output_type": "execute_result"
    }
   ],
   "source": [
    "rd.randrange(5)"
   ]
  },
  {
   "cell_type": "code",
   "execution_count": 50,
   "metadata": {},
   "outputs": [
    {
     "data": {
      "text/plain": [
       "4"
      ]
     },
     "execution_count": 50,
     "metadata": {},
     "output_type": "execute_result"
    }
   ],
   "source": [
    "rd.randint(0,4)"
   ]
  },
  {
   "cell_type": "code",
   "execution_count": 68,
   "metadata": {},
   "outputs": [
    {
     "data": {
      "text/plain": [
       "12"
      ]
     },
     "execution_count": 68,
     "metadata": {},
     "output_type": "execute_result"
    }
   ],
   "source": [
    "rd.randrange(0,20,3)"
   ]
  },
  {
   "cell_type": "code",
   "execution_count": 72,
   "metadata": {},
   "outputs": [
    {
     "data": {
      "text/plain": [
       "1"
      ]
     },
     "execution_count": 72,
     "metadata": {},
     "output_type": "execute_result"
    }
   ],
   "source": [
    "lista=[1,4,7,4,2,8,9,3,4,2]\n",
    "rd.choice(lista)"
   ]
  },
  {
   "cell_type": "code",
   "execution_count": 82,
   "metadata": {},
   "outputs": [
    {
     "name": "stdout",
     "output_type": "stream",
     "text": [
      "[2, 7, 4]\n"
     ]
    }
   ],
   "source": [
    "rd.sample(lista,3)"
   ]
  },
  {
   "cell_type": "code",
   "execution_count": 81,
   "metadata": {},
   "outputs": [
    {
     "name": "stdout",
     "output_type": "stream",
     "text": [
      "[1, 2, 3, 8, 7, 4, 4, 2, 9, 4]\n"
     ]
    }
   ],
   "source": [
    "rd.shuffle(lista)\n",
    "\n",
    "print(lista)"
   ]
  },
  {
   "cell_type": "markdown",
   "metadata": {},
   "source": [
    "# Przykladowe programy"
   ]
  },
  {
   "cell_type": "code",
   "execution_count": null,
   "metadata": {},
   "outputs": [],
   "source": [
    "# Napisać funkcję, która poprosi użytkonika o podanie słowa i zwróci  3 różne anagramy tego słowa\n"
   ]
  },
  {
   "cell_type": "code",
   "execution_count": null,
   "metadata": {},
   "outputs": [],
   "source": [
    "Wczytać plik o nazwie operacje.txt i utworzyć plik wynikowy (będzie omówione)"
   ]
  }
 ],
 "metadata": {
  "kernelspec": {
   "display_name": "Python 3",
   "language": "python",
   "name": "python3"
  },
  "language_info": {
   "codemirror_mode": {
    "name": "ipython",
    "version": 3
   },
   "file_extension": ".py",
   "mimetype": "text/x-python",
   "name": "python",
   "nbconvert_exporter": "python",
   "pygments_lexer": "ipython3",
   "version": "3.7.1"
  }
 },
 "nbformat": 4,
 "nbformat_minor": 2
}
