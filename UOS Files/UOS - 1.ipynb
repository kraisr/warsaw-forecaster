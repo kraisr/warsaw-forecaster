{
 "cells": [
  {
   "cell_type": "markdown",
   "metadata": {},
   "source": [
    "# To jest nasz pierwszy dokument\n",
    "Zmienne i ich typy"
   ]
  },
  {
   "cell_type": "code",
   "execution_count": 1,
   "metadata": {},
   "outputs": [
    {
     "name": "stdout",
     "output_type": "stream",
     "text": [
      "4\n"
     ]
    }
   ],
   "source": [
    "zm=34//7\n",
    "print(zm)"
   ]
  },
  {
   "cell_type": "code",
   "execution_count": 6,
   "metadata": {},
   "outputs": [
    {
     "name": "stdout",
     "output_type": "stream",
     "text": [
      "<class 'int'> 2\n"
     ]
    }
   ],
   "source": [
    "zm1=23*7\n",
    "zm2=23/7\n",
    "zm3=23//7\n",
    "zm4=23%7\n",
    "print(type(zm4), zm4)"
   ]
  },
  {
   "cell_type": "code",
   "execution_count": 8,
   "metadata": {},
   "outputs": [
    {
     "name": "stdout",
     "output_type": "stream",
     "text": [
      "(34-2j) <class 'complex'>\n"
     ]
    }
   ],
   "source": [
    "zm1=34-2j\n",
    "print(zm1, type(zm1))"
   ]
  },
  {
   "cell_type": "code",
   "execution_count": 9,
   "metadata": {},
   "outputs": [
    {
     "name": "stdout",
     "output_type": "stream",
     "text": [
      " Jeszcze inny tekst\n",
      "   w kilku liniach\n"
     ]
    }
   ],
   "source": [
    "tekst='Próba mikrofonu'\n",
    "tekst1=\"Inna próba\"\n",
    "tekst2=\"\"\" Jeszcze inny tekst\n",
    "   w kilku liniach\"\"\"\n",
    "\n",
    "print(tekst2)\n"
   ]
  },
  {
   "cell_type": "code",
   "execution_count": 1,
   "metadata": {},
   "outputs": [
    {
     "name": "stdout",
     "output_type": "stream",
     "text": [
      "Podaj ile masz lat  - 88\n",
      "Masz parzystą liczbę lat\n"
     ]
    }
   ],
   "source": [
    "# Pierwszy programik\n",
    "\n",
    "odpowiedz=  int(input('Podaj ile masz lat  - '))\n",
    "if odpowiedz % 2==0:\n",
    "    print('Masz parzystą liczbę lat')\n",
    "\n",
    "else:\n",
    "    print('Nie masz parzystej liczby lat :)')"
   ]
  },
  {
   "cell_type": "code",
   "execution_count": null,
   "metadata": {},
   "outputs": [],
   "source": []
  }
 ],
 "metadata": {
  "kernelspec": {
   "display_name": "Python 3",
   "language": "python",
   "name": "python3"
  },
  "language_info": {
   "codemirror_mode": {
    "name": "ipython",
    "version": 3
   },
   "file_extension": ".py",
   "mimetype": "text/x-python",
   "name": "python",
   "nbconvert_exporter": "python",
   "pygments_lexer": "ipython3",
   "version": "3.7.1"
  }
 },
 "nbformat": 4,
 "nbformat_minor": 2
}
