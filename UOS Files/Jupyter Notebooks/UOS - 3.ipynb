{
 "cells": [
  {
   "cell_type": "markdown",
   "metadata": {},
   "source": [
    "# Słowniki"
   ]
  },
  {
   "cell_type": "code",
   "execution_count": 8,
   "metadata": {},
   "outputs": [
    {
     "name": "stdout",
     "output_type": "stream",
     "text": [
      "{} <class 'dict'>\n"
     ]
    }
   ],
   "source": [
    "slownik={}\n",
    "print(slownik, type(slownik))"
   ]
  },
  {
   "cell_type": "code",
   "execution_count": 28,
   "metadata": {},
   "outputs": [
    {
     "name": "stdout",
     "output_type": "stream",
     "text": [
      "{} <class 'dict'>\n"
     ]
    }
   ],
   "source": [
    "slownik=dict()\n",
    "print(slownik, type(slownik))"
   ]
  },
  {
   "cell_type": "code",
   "execution_count": 29,
   "metadata": {},
   "outputs": [
    {
     "name": "stdout",
     "output_type": "stream",
     "text": [
      "{'Ala': '504 567 789'}\n"
     ]
    }
   ],
   "source": [
    "slownik['Ala']='504 567 789'\n",
    "print(slownik)"
   ]
  },
  {
   "cell_type": "code",
   "execution_count": 30,
   "metadata": {},
   "outputs": [
    {
     "name": "stdout",
     "output_type": "stream",
     "text": [
      "{'Ala': '504 567 789', ('Ula', 'Zula'): '664 678 678'}\n"
     ]
    }
   ],
   "source": [
    "slownik[('Ula' , 'Zula')]='664 678 678'\n",
    "print(slownik)"
   ]
  },
  {
   "cell_type": "code",
   "execution_count": 31,
   "metadata": {},
   "outputs": [
    {
     "name": "stdout",
     "output_type": "stream",
     "text": [
      "{'Ala': '504 567 789', ('Ula', 'Zula'): '664 678 678', 'Tola': ('664 678 678', '553 456 788')}\n"
     ]
    }
   ],
   "source": [
    "slownik['Tola']=('664 678 678','553 456 788')\n",
    "print(slownik)"
   ]
  },
  {
   "cell_type": "code",
   "execution_count": 14,
   "metadata": {},
   "outputs": [
    {
     "name": "stdout",
     "output_type": "stream",
     "text": [
      "504 567 789\n"
     ]
    }
   ],
   "source": [
    "print(slownik['Ala'])"
   ]
  },
  {
   "cell_type": "code",
   "execution_count": 17,
   "metadata": {},
   "outputs": [
    {
     "name": "stdout",
     "output_type": "stream",
     "text": [
      "False\n",
      "True\n"
     ]
    }
   ],
   "source": [
    "print( 'Franek' in slownik)\n",
    "\n",
    "print('Ala' in slownik)"
   ]
  },
  {
   "cell_type": "code",
   "execution_count": 32,
   "metadata": {},
   "outputs": [
    {
     "name": "stdout",
     "output_type": "stream",
     "text": [
      "{'Ala': '504 567 789', ('Ula', 'Zula'): '664 678 678', 'Tola': ('664 678 678', '553 456 788'), 'Zenek': ' Brak telefonu'}\n",
      "{'Ala': '504 567 789', ('Ula', 'Zula'): '664 678 678', 'Tola': ('664 678 678', '553 456 788'), 'Zenek': ' Dostał telefon'}\n"
     ]
    }
   ],
   "source": [
    "slownik['Zenek']=' Brak telefonu'\n",
    "print(slownik)\n",
    "slownik['Zenek']=' Dostał telefon'\n",
    "print(slownik)"
   ]
  },
  {
   "cell_type": "code",
   "execution_count": 22,
   "metadata": {},
   "outputs": [
    {
     "name": "stdout",
     "output_type": "stream",
     "text": [
      "dict_keys(['Ala', ('Ula', 'Zula'), 'Tola', 'Zenek'])\n",
      "dict_values(['504 567 789', '664 678 678', ('664 678 678', '553 456 788'), ' Dostał telefon'])\n",
      "dict_items([('Ala', '504 567 789'), (('Ula', 'Zula'), '664 678 678'), ('Tola', ('664 678 678', '553 456 788')), ('Zenek', ' Dostał telefon')])\n"
     ]
    }
   ],
   "source": [
    "# Metody typu dict\n",
    "print(slownik.keys())\n",
    "\n",
    "print(slownik.values())\n",
    "\n",
    "print(slownik.items())\n"
   ]
  },
  {
   "cell_type": "code",
   "execution_count": 25,
   "metadata": {},
   "outputs": [
    {
     "name": "stdout",
     "output_type": "stream",
     "text": [
      " Nie ma\n",
      "{('Ula', 'Zula'): '664 678 678', 'Tola': ('664 678 678', '553 456 788'), 'Zenek': ' Dostał telefon'}\n"
     ]
    }
   ],
   "source": [
    "zm=slownik.pop('Aligator',' Nie ma')\n",
    "print(zm)\n",
    "print(slownik)"
   ]
  },
  {
   "cell_type": "code",
   "execution_count": 27,
   "metadata": {},
   "outputs": [
    {
     "ename": "TypeError",
     "evalue": "popitem() takes no arguments (1 given)",
     "output_type": "error",
     "traceback": [
      "\u001b[1;31m---------------------------------------------------------------------------\u001b[0m",
      "\u001b[1;31mTypeError\u001b[0m                                 Traceback (most recent call last)",
      "\u001b[1;32m<ipython-input-27-929f825adaed>\u001b[0m in \u001b[0;36m<module>\u001b[1;34m\u001b[0m\n\u001b[1;32m----> 1\u001b[1;33m \u001b[0mzm\u001b[0m\u001b[1;33m=\u001b[0m\u001b[0mslownik\u001b[0m\u001b[1;33m.\u001b[0m\u001b[0mpopitem\u001b[0m\u001b[1;33m(\u001b[0m\u001b[1;36m2\u001b[0m\u001b[1;33m)\u001b[0m\u001b[1;33m\u001b[0m\u001b[1;33m\u001b[0m\u001b[0m\n\u001b[0m\u001b[0;32m      2\u001b[0m \u001b[1;33m\u001b[0m\u001b[0m\n\u001b[0;32m      3\u001b[0m \u001b[0mprint\u001b[0m\u001b[1;33m(\u001b[0m\u001b[0mzm\u001b[0m\u001b[1;33m)\u001b[0m\u001b[1;33m\u001b[0m\u001b[1;33m\u001b[0m\u001b[0m\n\u001b[0;32m      4\u001b[0m \u001b[0mprint\u001b[0m\u001b[1;33m(\u001b[0m\u001b[0mslownik\u001b[0m\u001b[1;33m)\u001b[0m\u001b[1;33m\u001b[0m\u001b[1;33m\u001b[0m\u001b[0m\n",
      "\u001b[1;31mTypeError\u001b[0m: popitem() takes no arguments (1 given)"
     ]
    }
   ],
   "source": [
    "zm=slownik.popitem()\n",
    "\n",
    "print(zm)\n",
    "print(slownik)"
   ]
  },
  {
   "cell_type": "code",
   "execution_count": 35,
   "metadata": {},
   "outputs": [
    {
     "name": "stdout",
     "output_type": "stream",
     "text": [
      "Ala\n",
      "('Ula', 'Zula')\n",
      "Tola\n",
      "Zenek\n"
     ]
    }
   ],
   "source": [
    "#print(slownik)\n",
    "\n",
    "for  element in slownik:\n",
    "    print(element)"
   ]
  },
  {
   "cell_type": "code",
   "execution_count": 36,
   "metadata": {},
   "outputs": [
    {
     "name": "stdout",
     "output_type": "stream",
     "text": [
      "Ala\n",
      "('Ula', 'Zula')\n",
      "Tola\n",
      "Zenek\n"
     ]
    }
   ],
   "source": [
    "for  element in slownik.keys():\n",
    "    print(element)"
   ]
  },
  {
   "cell_type": "code",
   "execution_count": 37,
   "metadata": {},
   "outputs": [
    {
     "name": "stdout",
     "output_type": "stream",
     "text": [
      "504 567 789\n",
      "664 678 678\n",
      "('664 678 678', '553 456 788')\n",
      " Dostał telefon\n"
     ]
    }
   ],
   "source": [
    "for  element in slownik.values():\n",
    "    print(element)"
   ]
  },
  {
   "cell_type": "code",
   "execution_count": 39,
   "metadata": {},
   "outputs": [
    {
     "name": "stdout",
     "output_type": "stream",
     "text": [
      "Do klucza  Ala  dowiazana jest  504 567 789\n",
      "Do klucza  ('Ula', 'Zula')  dowiazana jest  664 678 678\n",
      "Do klucza  Tola  dowiazana jest  ('664 678 678', '553 456 788')\n",
      "Do klucza  Zenek  dowiazana jest   Dostał telefon\n"
     ]
    }
   ],
   "source": [
    "for  klucz, wartosc in slownik.items():\n",
    "    print(\"Do klucza \" ,klucz, \" dowiazana jest \",wartosc)"
   ]
  },
  {
   "cell_type": "markdown",
   "metadata": {},
   "source": [
    "# Pliki"
   ]
  },
  {
   "cell_type": "code",
   "execution_count": 40,
   "metadata": {},
   "outputs": [],
   "source": [
    "plik=open(\"d:\\PlikiPython\\MegaKustTest.txt\", 'w')\n",
    "plik.writelines('Ala')\n",
    "plik.writelines('Ola')\n",
    "plik.writelines('Ula')\n",
    "plik.close()"
   ]
  },
  {
   "cell_type": "code",
   "execution_count": 43,
   "metadata": {},
   "outputs": [],
   "source": [
    "plik=open(\"d:\\\\PlikiPython\\\\negaKustTest.txt\", 'w')\n",
    "plik.writelines('Ala\\n')\n",
    "plik.writelines('Ola\\n')\n",
    "plik.writelines('Ula\\n')\n",
    "plik.close()"
   ]
  },
  {
   "cell_type": "code",
   "execution_count": 45,
   "metadata": {},
   "outputs": [],
   "source": [
    "plik=open(\"d:\\\\PlikiPython\\\\negaKustTest.txt\", 'a')\n",
    "plik.writelines('Zosia\\n')\n",
    "plik.close()"
   ]
  },
  {
   "cell_type": "code",
   "execution_count": 54,
   "metadata": {},
   "outputs": [
    {
     "name": "stdout",
     "output_type": "stream",
     "text": [
      "['Ala\\n', 'Ola\\n', 'Ula\\n', 'Zosia\\n']\n"
     ]
    }
   ],
   "source": [
    "# Odczytywanie z pliku\n",
    "plik=open(\"d:\\\\PlikiPython\\\\negaKustTest.txt\", 'rt')\n",
    "zawartosc=plik.readlines()\n",
    "print(zawartosc)\n",
    "plik.close()"
   ]
  },
  {
   "cell_type": "code",
   "execution_count": 57,
   "metadata": {},
   "outputs": [
    {
     "name": "stdout",
     "output_type": "stream",
     "text": [
      "Ala\n",
      "Ola\n"
     ]
    }
   ],
   "source": [
    "plik=open(\"d:\\\\PlikiPython\\\\negaKustTest.txt\", 'rt')\n",
    "print(plik.read(7))\n",
    "plik.close()"
   ]
  },
  {
   "cell_type": "markdown",
   "metadata": {},
   "source": [
    "# Przykladowe programy"
   ]
  },
  {
   "cell_type": "code",
   "execution_count": 67,
   "metadata": {},
   "outputs": [],
   "source": [
    "plik=open('D:\\\\PlikiPython\\\\SlowaZamienniki.txt')\n",
    "zawartosc=plik.readlines()\n",
    "plik.close()\n",
    "slownik={}\n",
    "for linia in zawartosc:\n",
    "      slowa=(linia.strip()).split(',')\n",
    "      slownik[slowa[0]]=slowa[1]\n",
    "listaKluczy=list(slownik.keys())      \n",
    "\n",
    "plik=open('D:\\PlikiPython\\DoCenzury.txt')\n",
    "zawartosc=plik.readlines()\n",
    "plik.close()\n",
    "\n",
    "wynik=[]\n",
    "for linia in zawartosc:\n",
    "      ListaSlow=(linia.strip()).split(' ')\n",
    "      for i in range(len(ListaSlow)):\n",
    "            if ListaSlow[i] in listaKluczy:\n",
    "                  ListaSlow[i]=slownik[ListaSlow[i]]\n",
    "      wynik.append(' '.join(ListaSlow)+'\\n')\n",
    "\n",
    "    \n",
    "plik=open('D:\\PlikiPython\\PoCenzurze.txt', 'w')\n",
    "plik.writelines(wynik)\n",
    "plik.close()    "
   ]
  },
  {
   "cell_type": "code",
   "execution_count": null,
   "metadata": {},
   "outputs": [],
   "source": []
  }
 ],
 "metadata": {
  "kernelspec": {
   "display_name": "Python 3",
   "language": "python",
   "name": "python3"
  },
  "language_info": {
   "codemirror_mode": {
    "name": "ipython",
    "version": 3
   },
   "file_extension": ".py",
   "mimetype": "text/x-python",
   "name": "python",
   "nbconvert_exporter": "python",
   "pygments_lexer": "ipython3",
   "version": "3.7.1"
  }
 },
 "nbformat": 4,
 "nbformat_minor": 2
}
