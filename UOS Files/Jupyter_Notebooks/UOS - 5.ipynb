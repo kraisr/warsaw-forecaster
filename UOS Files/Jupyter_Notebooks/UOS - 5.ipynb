{
 "cells": [
  {
   "cell_type": "markdown",
   "metadata": {},
   "source": [
    "# UOS  - Kurs Python 5  - Warsztaty "
   ]
  },
  {
   "cell_type": "markdown",
   "metadata": {},
   "source": [
    "# Napisać program, który pobierze od użytkownika słowo i utworzy listę zawierającą 3 różne anagramy danego słowa.\n",
    "\n"
   ]
  },
  {
   "cell_type": "code",
   "execution_count": 31,
   "metadata": {},
   "outputs": [
    {
     "name": "stdout",
     "output_type": "stream",
     "text": [
      " Podaj słowo - kot\n",
      "['tok', 'tko', 'otk']\n"
     ]
    }
   ],
   "source": [
    "slowo= input (\" Podaj słowo - \")\n",
    "wynik=[]\n",
    "for litera in slowo:\n",
    "    if litera not in wynik:\n",
    "        wynik.append(litera)\n",
    "if len(wynik)   <3:\n",
    "    print('Interesują mnie słowa zawierajace conajmniej trzy różne litery')\n",
    "else :\n",
    "    wynik=[]\n",
    "    while len(wynik)<3:\n",
    "        slowo=list(slowo)\n",
    "        rd.shuffle(slowo)\n",
    "        anagram=''.join(slowo)\n",
    "        if anagram not in wynik and anagram != slowo:\n",
    "            wynik.append(anagram)\n",
    "print(wynik)            "
   ]
  },
  {
   "cell_type": "code",
   "execution_count": 48,
   "metadata": {},
   "outputs": [
    {
     "data": {
      "text/plain": [
       "['kykut', 'tykuk', 'ykktu', 'kuytk', 'kkytu']"
      ]
     },
     "execution_count": 48,
     "metadata": {},
     "output_type": "execute_result"
    }
   ],
   "source": [
    "import random as rd\n",
    "import math as m\n",
    "\n",
    "def AnagramSlowa(slowo, ile):\n",
    "    wynik=[]\n",
    "    if isinstance(slowo,str)==False or isinstance(ile,int)==False:\n",
    "        return 'Niepoprawne parametry'\n",
    "    else:\n",
    "        for litera in slowo:\n",
    "            if litera not in wynik:\n",
    "                wynik.append(litera)\n",
    "        if len(wynik)   <3 or ile>m.factorial(len(wynik)) :\n",
    "            return 'Interesują mnie słowa zawierajace conajmniej trzy różne litery i dopuszczalna liczba anagramów lub złe typy'\n",
    "        else :\n",
    "            wynik=[]\n",
    "            while len(wynik)<ile:\n",
    "                slowo=list(slowo)\n",
    "                rd.shuffle(slowo)\n",
    "                anagram=''.join(slowo)\n",
    "                if anagram not in wynik and anagram != slowo:\n",
    "                    wynik.append(anagram)\n",
    "    return wynik\n",
    "\n",
    "AnagramSlowa('kkuyt',5)"
   ]
  },
  {
   "cell_type": "code",
   "execution_count": 51,
   "metadata": {},
   "outputs": [
    {
     "data": {
      "text/plain": [
       "[['peikse', 'eisepk', 'eskpie', 'eepkis'],\n",
       " 'Niepoprawne parametry',\n",
       " ['canoib', 'icnboa', 'canbio', 'aobinc', 'cbinoa', 'cnaibo', 'caoibn']]"
      ]
     },
     "execution_count": 51,
     "metadata": {},
     "output_type": "execute_result"
    }
   ],
   "source": [
    "def ListaAnagramow(*dane):\n",
    "    wynik=[]\n",
    "    for slowo in dane:\n",
    "        wynik.append(AnagramSlowa(slowo[0],slowo[1]))\n",
    "    return wynik\n",
    "\n",
    "ListaAnagramow(('piesek',4),('kotek','ala'),('bocian' ,7))\n",
    "        "
   ]
  },
  {
   "cell_type": "code",
   "execution_count": 27,
   "metadata": {},
   "outputs": [
    {
     "name": "stdout",
     "output_type": "stream",
     "text": [
      "['k', 'k', 'o', 'd', 'o', 'l', 'r', 'y']\n",
      "kkodolry\n"
     ]
    }
   ],
   "source": [
    "import random as rd\n",
    "zm='krokodyl'\n",
    "zm=list(zm)\n",
    "rd.shuffle(zm)\n",
    "print(zm)\n",
    "print(''.join(zm))"
   ]
  },
  {
   "cell_type": "markdown",
   "metadata": {},
   "source": [
    "Po przetestowaniu programu utworzyć funkcję, która przyjmuje jako parametr listę słów i zwraca  trzy różne anagramy dla każdego słowa( strukturę danych dla zwracanej wartości można wybrać samemu)"
   ]
  },
  {
   "cell_type": "code",
   "execution_count": 2,
   "metadata": {},
   "outputs": [
    {
     "name": "stdout",
     "output_type": "stream",
     "text": [
      "Podaj słowo - we\n",
      "['Dla słowa we nie da sie utworzyć trzech róznych anagramów']\n"
     ]
    }
   ],
   "source": [
    "import random as rd\n",
    "slowo=input('Podaj słowo - ')\n",
    "wynik=[]\n",
    "if len(slowo)<3:\n",
    "    wynik.append('Dla słowa '+slowo+' nie da sie utworzyć trzech róznych anagramów')\n",
    "else:    \n",
    "    for i in range(3):\n",
    "        czyKontynuacja=True\n",
    "        while  czyKontynuacja:\n",
    "            anagram=''.join(rd.sample(slowo,len(slowo)))\n",
    "            if anagram not in wynik:\n",
    "                wynik.append(anagram)\n",
    "                czyKontynuacja=False\n",
    "            else:\n",
    "                czyKontynuacja=True\n",
    "     \n",
    "\n",
    "print(wynik)"
   ]
  },
  {
   "cell_type": "code",
   "execution_count": 22,
   "metadata": {},
   "outputs": [
    {
     "name": "stdout",
     "output_type": "stream",
     "text": [
      "['1625', '5612', '6512']\n"
     ]
    }
   ],
   "source": [
    "def AnagramSlowa(slowo):\n",
    "    wynik=[]\n",
    "    slowo=str(slowo).lower()\n",
    "    if len(slowo)<3:\n",
    "        wynik.append('Dla słowa '+slowo+' nie da sie utworzyć trzech róznych anagramów')\n",
    "    else:    \n",
    "        for i in range(3):\n",
    "            czyKontynuacja=True\n",
    "            while  czyKontynuacja:\n",
    "                anagram=''.join(rd.sample(slowo,len(slowo)))\n",
    "                if anagram not in wynik:\n",
    "                    wynik.append(anagram)\n",
    "                    czyKontynuacja=False\n",
    "                else:\n",
    "                    czyKontynuacja=True   \n",
    "    return wynik\n",
    "\n",
    "print(AnagramSlowa(1256))"
   ]
  },
  {
   "cell_type": "code",
   "execution_count": 23,
   "metadata": {},
   "outputs": [
    {
     "name": "stdout",
     "output_type": "stream",
     "text": [
      "[['kot', 'okt', 'otk'], ['ieps', 'epis', 'pesi'], ['abezr', 'zerab', 'rbeaz'], ['Dla słowa as nie da sie utworzyć trzech róznych anagramów'], ['211', '112', '121']]\n"
     ]
    }
   ],
   "source": [
    "def AnagramListySlow(*lista):\n",
    "    ListaWynik=[]\n",
    "    for slowo in lista:\n",
    "        ListaWynik.append(AnagramSlowa(slowo))\n",
    "    return ListaWynik\n",
    "\n",
    "print(AnagramListySlow('Kot','Pies', 'zeBRa','as',112))\n",
    "    "
   ]
  },
  {
   "cell_type": "code",
   "execution_count": 40,
   "metadata": {},
   "outputs": [
    {
     "name": "stdout",
     "output_type": "stream",
     "text": [
      "<class 'str'>\n"
     ]
    },
    {
     "data": {
      "text/plain": [
       "True"
      ]
     },
     "execution_count": 40,
     "metadata": {},
     "output_type": "execute_result"
    }
   ],
   "source": [
    "print(type('aaa'))\n",
    "\n",
    "\n",
    "zm='aaaaa'\n",
    "isinstance(zm, str)"
   ]
  },
  {
   "cell_type": "code",
   "execution_count": null,
   "metadata": {},
   "outputs": [],
   "source": []
  }
 ],
 "metadata": {
  "kernelspec": {
   "display_name": "Python 3",
   "language": "python",
   "name": "python3"
  },
  "language_info": {
   "codemirror_mode": {
    "name": "ipython",
    "version": 3
   },
   "file_extension": ".py",
   "mimetype": "text/x-python",
   "name": "python",
   "nbconvert_exporter": "python",
   "pygments_lexer": "ipython3",
   "version": "3.7.1"
  }
 },
 "nbformat": 4,
 "nbformat_minor": 2
}
