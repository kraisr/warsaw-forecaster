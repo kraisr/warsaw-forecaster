{
 "cells": [
  {
   "cell_type": "markdown",
   "metadata": {},
   "source": [
    "# Operacje na typie danych str"
   ]
  },
  {
   "cell_type": "code",
   "execution_count": 11,
   "metadata": {},
   "outputs": [
    {
     "name": "stdout",
     "output_type": "stream",
     "text": [
      " A to jest inny tekst\n",
      "  zapisany w wielu wierszach\n",
      "  .... bo tak\n"
     ]
    }
   ],
   "source": [
    "zm1='Tekst pierwszy'\n",
    "zm2=\"Tekst drugi\"\n",
    "zm3=\"\"\" A to jest inny tekst\n",
    "  zapisany w wielu wierszach\n",
    "  .... bo tak\"\"\"\n",
    "print(zm3)"
   ]
  },
  {
   "cell_type": "markdown",
   "metadata": {},
   "source": [
    "# Indeksowanie typu str"
   ]
  },
  {
   "cell_type": "code",
   "execution_count": 17,
   "metadata": {},
   "outputs": [
    {
     "name": "stdout",
     "output_type": "stream",
     "text": [
      "j\n",
      "ó\n",
      "o jest \n",
      "t do eksperymetów\n",
      "To jest teks\n",
      "ojs \n"
     ]
    }
   ],
   "source": [
    "napis=\"To jest tekst do eksperymetów\"\n",
    "\n",
    "print(napis[3])\n",
    "print(napis[-2])\n",
    "print(napis[1:8])\n",
    "print(napis[12:])\n",
    "print(napis[:12])\n",
    "print(napis[1:8:2])"
   ]
  },
  {
   "cell_type": "code",
   "execution_count": 19,
   "metadata": {},
   "outputs": [
    {
     "name": "stdout",
     "output_type": "stream",
     "text": [
      "To jett tekst do eksperymetów\n"
     ]
    }
   ],
   "source": [
    "# czy uda sie zmienic literę w napisie\n",
    "\n",
    "napis2=napis[:5]+'t'+napis[5+1:]\n",
    "print(napis2)"
   ]
  },
  {
   "cell_type": "markdown",
   "metadata": {},
   "source": [
    "# Metody typu str"
   ]
  },
  {
   "cell_type": "code",
   "execution_count": 21,
   "metadata": {},
   "outputs": [
    {
     "name": "stdout",
     "output_type": "stream",
     "text": [
      "Dzisiaj jest piękny dzień, jedyny w swoim rodzaju\n"
     ]
    }
   ],
   "source": [
    "napis ='dzisiaj jest piękny dzień, jedyny w swoim rodzaju'\n",
    "zm=napis.capitalize()\n",
    "print(zm)"
   ]
  },
  {
   "cell_type": "code",
   "execution_count": 25,
   "metadata": {},
   "outputs": [
    {
     "name": "stdout",
     "output_type": "stream",
     "text": [
      "0\n"
     ]
    }
   ],
   "source": [
    "#  metoda count zlicza wystąpienia\n",
    "\n",
    "print( napis.count('jeż'))"
   ]
  },
  {
   "cell_type": "code",
   "execution_count": 27,
   "metadata": {},
   "outputs": [
    {
     "name": "stdout",
     "output_type": "stream",
     "text": [
      "-1\n"
     ]
    }
   ],
   "source": [
    "# metoda find  - sprawdza i pokazuje gdzie wystepuje fragment\n",
    "print( napis.find('jeż'))"
   ]
  },
  {
   "cell_type": "code",
   "execution_count": 29,
   "metadata": {},
   "outputs": [
    {
     "ename": "ValueError",
     "evalue": "substring not found",
     "output_type": "error",
     "traceback": [
      "\u001b[1;31m---------------------------------------------------------------------------\u001b[0m",
      "\u001b[1;31mValueError\u001b[0m                                Traceback (most recent call last)",
      "\u001b[1;32m<ipython-input-29-24368f57f21d>\u001b[0m in \u001b[0;36m<module>\u001b[1;34m\u001b[0m\n\u001b[0;32m      1\u001b[0m \u001b[1;31m# metoda index  podobna do find - sprawdza i pokazuje gdzie wystepuje fragment\u001b[0m\u001b[1;33m\u001b[0m\u001b[1;33m\u001b[0m\u001b[1;33m\u001b[0m\u001b[0m\n\u001b[1;32m----> 2\u001b[1;33m \u001b[0mprint\u001b[0m\u001b[1;33m(\u001b[0m \u001b[0mnapis\u001b[0m\u001b[1;33m.\u001b[0m\u001b[0mindex\u001b[0m\u001b[1;33m(\u001b[0m\u001b[1;34m'jeż'\u001b[0m\u001b[1;33m)\u001b[0m\u001b[1;33m)\u001b[0m\u001b[1;33m\u001b[0m\u001b[1;33m\u001b[0m\u001b[0m\n\u001b[0m",
      "\u001b[1;31mValueError\u001b[0m: substring not found"
     ]
    }
   ],
   "source": [
    "# metoda index  podobna do find - sprawdza i pokazuje gdzie wystepuje fragment\n",
    "print( napis.index('jeż'))"
   ]
  },
  {
   "cell_type": "code",
   "execution_count": 33,
   "metadata": {},
   "outputs": [
    {
     "name": "stdout",
     "output_type": "stream",
     "text": [
      "False\n",
      "False\n",
      "False\n"
     ]
    }
   ],
   "source": [
    "# metody sprawdzające\n",
    "zm='345.0'\n",
    "print(zm.isdecimal())\n",
    "print(zm.isnumeric())\n",
    "print(zm.isalnum())"
   ]
  },
  {
   "cell_type": "code",
   "execution_count": 13,
   "metadata": {},
   "outputs": [
    {
     "name": "stdout",
     "output_type": "stream",
     "text": [
      " Podaj dowolną liczbę - sfssdsdsdsdsd\n",
      "Naucz sie gamoniu pisać liczby - .... jeszcze raz\n",
      " Podaj dowolną liczbę - etetetet\n",
      "Naucz sie gamoniu pisać liczby - .... jeszcze raz\n",
      " Podaj dowolną liczbę - werwrwrwrw\n",
      "Naucz sie gamoniu pisać liczby - .... jeszcze raz\n",
      " Podaj dowolną liczbę - 45\n",
      "Podałeś liczbę -  45\n",
      "To jest liczba nieparzysta\n"
     ]
    }
   ],
   "source": [
    "#   modyfikacja pierwszego programu \n",
    "\n",
    "CzyOk=True\n",
    "while CzyOk:\n",
    "    odpowiedz=input(\" Podaj dowolną liczbę - \")\n",
    "    try:\n",
    "        odpowiedz=int(float(odpowiedz)// 1)\n",
    "        CzyOk=False\n",
    "    except ValueError:\n",
    "        print('Naucz sie gamoniu pisać liczby - .... jeszcze raz')\n",
    "        CzyOk=True\n",
    "\n",
    "if odpowiedz % 2 == 0 :\n",
    "    print('Podałeś liczbę - ', odpowiedz)\n",
    "    print('To jest liczba parzysta')\n",
    "else:\n",
    "    print('Podałeś liczbę - ', odpowiedz)\n",
    "    print('To jest liczba nieparzysta')\n"
   ]
  },
  {
   "cell_type": "markdown",
   "metadata": {},
   "source": [
    "# Listy"
   ]
  },
  {
   "cell_type": "code",
   "execution_count": 17,
   "metadata": {},
   "outputs": [
    {
     "name": "stdout",
     "output_type": "stream",
     "text": [
      "<class 'list'> <class 'list'>\n",
      "<class 'list'> ['Ola', 'Ala', 'Ula', 'Zula', 'Tola']\n"
     ]
    }
   ],
   "source": [
    "# tworzenie listy\n",
    "lista1=[]\n",
    "lista2=list()\n",
    "\n",
    "print(type(lista1), type(lista2))\n",
    "\n",
    "lista3=['Ola', 'Ala','Ula', 'Zula', 'Tola']\n",
    "\n",
    "lista4=[1,4,6.34,'Ola', True, 56>5, [1,2,3]]\n",
    "\n",
    "print(type(lista3),lista3)"
   ]
  },
  {
   "cell_type": "code",
   "execution_count": 22,
   "metadata": {},
   "outputs": [
    {
     "name": "stdout",
     "output_type": "stream",
     "text": [
      "2\n",
      "[1, 4, 6.34, 'Olek', True, True, [1, 2, 3]]\n"
     ]
    }
   ],
   "source": [
    "# indeksowanie listy\n",
    "print(lista4[6][1])\n",
    "\n",
    "lista4[3]='Olek'\n",
    "print(lista4)"
   ]
  },
  {
   "cell_type": "code",
   "execution_count": 24,
   "metadata": {},
   "outputs": [
    {
     "name": "stdout",
     "output_type": "stream",
     "text": [
      "['Ola']\n",
      "['Ola', 'Ola', 'Ala', 'Zula', 'Olaf', 'Tola']\n"
     ]
    }
   ],
   "source": [
    "# metody typu list\n",
    "print(lista1)\n",
    "lista1.append('Ola')\n",
    "lista1.append('Ala')\n",
    "lista1.append('Zula')\n",
    "lista1.append('Olaf')\n",
    "lista1.append('Tola')\n",
    "print(lista1)\n",
    "#  append dodaje element listy na końcu"
   ]
  },
  {
   "cell_type": "code",
   "execution_count": 26,
   "metadata": {},
   "outputs": [
    {
     "name": "stdout",
     "output_type": "stream",
     "text": [
      "['Ola', 'Ola', 'Alek', 'Alek', 'Ala', 'Zula', 'Olaf', 'Tola']\n",
      "None\n"
     ]
    }
   ],
   "source": [
    "zm=lista1.insert(2,'Alek')\n",
    "print(lista1)\n",
    "print(zm)"
   ]
  },
  {
   "cell_type": "code",
   "execution_count": 30,
   "metadata": {},
   "outputs": [
    {
     "ename": "ValueError",
     "evalue": "list.remove(x): x not in list",
     "output_type": "error",
     "traceback": [
      "\u001b[1;31m---------------------------------------------------------------------------\u001b[0m",
      "\u001b[1;31mValueError\u001b[0m                                Traceback (most recent call last)",
      "\u001b[1;32m<ipython-input-30-5568100eda69>\u001b[0m in \u001b[0;36m<module>\u001b[1;34m\u001b[0m\n\u001b[0;32m      1\u001b[0m \u001b[1;31m# usuwanie elementów z listy\u001b[0m\u001b[1;33m\u001b[0m\u001b[1;33m\u001b[0m\u001b[1;33m\u001b[0m\u001b[0m\n\u001b[1;32m----> 2\u001b[1;33m \u001b[0mlista1\u001b[0m\u001b[1;33m.\u001b[0m\u001b[0mremove\u001b[0m\u001b[1;33m(\u001b[0m\u001b[1;34m'Alek'\u001b[0m\u001b[1;33m)\u001b[0m\u001b[1;33m\u001b[0m\u001b[1;33m\u001b[0m\u001b[0m\n\u001b[0m\u001b[0;32m      3\u001b[0m \u001b[0mprint\u001b[0m\u001b[1;33m(\u001b[0m\u001b[0mlista1\u001b[0m\u001b[1;33m)\u001b[0m\u001b[1;33m\u001b[0m\u001b[1;33m\u001b[0m\u001b[0m\n",
      "\u001b[1;31mValueError\u001b[0m: list.remove(x): x not in list"
     ]
    }
   ],
   "source": [
    "# usuwanie elementów z listy\n",
    "lista1.remove('Alek')\n",
    "print(lista1)"
   ]
  },
  {
   "cell_type": "code",
   "execution_count": 33,
   "metadata": {},
   "outputs": [
    {
     "name": "stdout",
     "output_type": "stream",
     "text": [
      "True\n"
     ]
    }
   ],
   "source": [
    "print ('Ala' in lista1)"
   ]
  },
  {
   "cell_type": "code",
   "execution_count": 36,
   "metadata": {},
   "outputs": [
    {
     "name": "stdout",
     "output_type": "stream",
     "text": [
      "['Ola', 'Tola', 'Zula', 'Olaf']\n"
     ]
    }
   ],
   "source": [
    "# łaczenie list\n",
    "l1=['Ola','Tola']\n",
    "l2=['Zula', 'Olaf']\n",
    "\n",
    "l1.extend(l2)\n",
    "print(l1)\n"
   ]
  },
  {
   "cell_type": "code",
   "execution_count": 37,
   "metadata": {},
   "outputs": [
    {
     "name": "stdout",
     "output_type": "stream",
     "text": [
      "['Ola', 'Ola', 'Ala', 'Zula', 'Olaf', 'Tola']\n",
      "['Ola', 'Ola', 'Ala', 'Zula', 'Olaf', 'Tola', 'Ola', 'Ala', 'Zula', 'Olaf', 'Tola']\n"
     ]
    }
   ],
   "source": [
    "# Pobieranie z listy\n",
    "print(lista1)\n",
    "lista1.append('Ola')\n",
    "lista1.append('Ala')\n",
    "lista1.append('Zula')\n",
    "lista1.append('Olaf')\n",
    "lista1.append('Tola')\n",
    "print(lista1)\n",
    "\n",
    "lista1.pop()"
   ]
  },
  {
   "cell_type": "code",
   "execution_count": 41,
   "metadata": {},
   "outputs": [
    {
     "name": "stdout",
     "output_type": "stream",
     "text": [
      "['Ola', 'Ola', 'Ala', 'Zula', 'Olaf', 'Tola', 'Ola', 'Ala', 'Zula']\n",
      "Ola\n",
      "['Ola', 'Ala', 'Zula', 'Olaf', 'Tola', 'Ola', 'Ala', 'Zula']\n"
     ]
    }
   ],
   "source": [
    "print(lista1)\n",
    "zm=lista1.pop(0)\n",
    "print(zm)\n",
    "print(lista1)"
   ]
  },
  {
   "cell_type": "code",
   "execution_count": 39,
   "metadata": {},
   "outputs": [
    {
     "name": "stdout",
     "output_type": "stream",
     "text": [
      "['Ola', 'Ola', 'Ala', 'Zula', 'Olaf', 'Tola', 'Ola', 'Ala', 'Zula', 'Olaf']\n"
     ]
    }
   ],
   "source": [
    "print(lista1)"
   ]
  },
  {
   "cell_type": "code",
   "execution_count": 47,
   "metadata": {},
   "outputs": [
    {
     "name": "stdout",
     "output_type": "stream",
     "text": [
      "['Ala', 'Ala', 'Ola', 'Ola', 'Olaf', 'Tola', 'Zula', 'Zula']\n",
      "['Zula', 'Zula', 'Tola', 'Olaf', 'Ola', 'Ola', 'Ala', 'Ala']\n"
     ]
    }
   ],
   "source": [
    "lista1.sort()\n",
    "print(lista1)\n",
    "lista1.reverse()\n",
    "print(lista1)"
   ]
  },
  {
   "cell_type": "code",
   "execution_count": 51,
   "metadata": {},
   "outputs": [
    {
     "name": "stdout",
     "output_type": "stream",
     "text": [
      "Testowanie\n"
     ]
    }
   ],
   "source": [
    "napis='Tertowanie'\n",
    "napis=list(napis)\n",
    "napis[2]='s'\n",
    "napis=''.join(napis)\n",
    "print(napis)"
   ]
  },
  {
   "cell_type": "code",
   "execution_count": 72,
   "metadata": {},
   "outputs": [
    {
     "name": "stdout",
     "output_type": "stream",
     "text": [
      "Jakie imie mam usunąć z listy ??? - dfddff\n",
      "Nic nie robię - nie ma takiej osoby\n"
     ]
    },
    {
     "ename": "ValueError",
     "evalue": "list.remove(x): x not in list",
     "output_type": "error",
     "traceback": [
      "\u001b[1;31m---------------------------------------------------------------------------\u001b[0m",
      "\u001b[1;31mValueError\u001b[0m                                Traceback (most recent call last)",
      "\u001b[1;32m<ipython-input-72-1e182a2efcb1>\u001b[0m in \u001b[0;36m<module>\u001b[1;34m\u001b[0m\n\u001b[0;32m     18\u001b[0m \u001b[1;33m\u001b[0m\u001b[0m\n\u001b[0;32m     19\u001b[0m \u001b[1;32mfor\u001b[0m \u001b[0mi\u001b[0m \u001b[1;32min\u001b[0m \u001b[0mrange\u001b[0m\u001b[1;33m(\u001b[0m\u001b[0milosc\u001b[0m\u001b[1;33m)\u001b[0m\u001b[1;33m:\u001b[0m\u001b[1;33m\u001b[0m\u001b[1;33m\u001b[0m\u001b[0m\n\u001b[1;32m---> 20\u001b[1;33m     \u001b[0mlista\u001b[0m\u001b[1;33m.\u001b[0m\u001b[0mremove\u001b[0m\u001b[1;33m(\u001b[0m\u001b[0modp\u001b[0m\u001b[1;33m)\u001b[0m\u001b[1;33m\u001b[0m\u001b[1;33m\u001b[0m\u001b[0m\n\u001b[0m\u001b[0;32m     21\u001b[0m \u001b[1;33m\u001b[0m\u001b[0m\n\u001b[0;32m     22\u001b[0m \u001b[0mprint\u001b[0m\u001b[1;33m(\u001b[0m\u001b[1;34m'... i po robocie'\u001b[0m\u001b[1;33m)\u001b[0m\u001b[1;33m\u001b[0m\u001b[1;33m\u001b[0m\u001b[0m\n",
      "\u001b[1;31mValueError\u001b[0m: list.remove(x): x not in list"
     ]
    }
   ],
   "source": [
    "#  Końcowy programik dnia drugiego\n",
    "\n",
    "lista=['Ola','Jola','Zula']\n",
    "lista=lista*3\n",
    "l1=['Ula']*5\n",
    "lista=lista+l1\n",
    "\n",
    "odp=input('Jakie imie mam usunąć z listy ??? - ')\n",
    "ile=lista.count(odp)\n",
    "\n",
    "if ile==0:\n",
    "    print('Nic nie robię - nie ma takiej osoby')\n",
    "else:\n",
    "    print(odp, \"występuje \", ile , \"razy \")\n",
    "    ilosc=int(input('Podaj ile wystąpień '+odp+\" mam usunąć ??? \"))\n",
    "    if ile<ilosc:\n",
    "        ilosc=ile\n",
    "        \n",
    "    for i in range(ilosc):\n",
    "        lista.remove(odp)\n",
    "\n",
    "print('... i po robocie')\n",
    "print(lista)\n",
    "    \n",
    "    "
   ]
  },
  {
   "cell_type": "code",
   "execution_count": 61,
   "metadata": {},
   "outputs": [
    {
     "name": "stdout",
     "output_type": "stream",
     "text": [
      "['Ola', 'Jola', 'Zula', 'Ola', 'Jola', 'Zula', 'Ola', 'Jola', 'Zula', 'Ula', 'Ula', 'Ula', 'Ula', 'Ula', 'Ula']\n"
     ]
    }
   ],
   "source": [
    "lista.append('Ula')\n",
    "print(lista)"
   ]
  },
  {
   "cell_type": "code",
   "execution_count": null,
   "metadata": {},
   "outputs": [],
   "source": []
  },
  {
   "cell_type": "code",
   "execution_count": null,
   "metadata": {},
   "outputs": [],
   "source": []
  }
 ],
 "metadata": {
  "kernelspec": {
   "display_name": "Python 3",
   "language": "python",
   "name": "python3"
  },
  "language_info": {
   "codemirror_mode": {
    "name": "ipython",
    "version": 3
   },
   "file_extension": ".py",
   "mimetype": "text/x-python",
   "name": "python",
   "nbconvert_exporter": "python",
   "pygments_lexer": "ipython3",
   "version": "3.7.1"
  }
 },
 "nbformat": 4,
 "nbformat_minor": 2
}
